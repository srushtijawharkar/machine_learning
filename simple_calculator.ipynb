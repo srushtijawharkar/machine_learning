{
 "cells": [
  {
   "cell_type": "code",
   "execution_count": 1,
   "metadata": {},
   "outputs": [
    {
     "name": "stdout",
     "output_type": "stream",
     "text": [
      "1. Add\n",
      "2. divide\n",
      "3. multi\n",
      "4. substract\n",
      "5. exit\n",
      "Enter choice(1/2/3/4):1\n",
      "Enter first number: 12\n",
      "Enter second number: 12\n",
      "addtion of 2 numbers :  24\n",
      "\n",
      "Do you want to calculate again?\n",
      "Please type Y for YES or N for NO.\n",
      "y\n",
      "1. Add\n",
      "2. divide\n",
      "3. multi\n",
      "4. substract\n",
      "5. exit\n",
      "Enter choice(1/2/3/4):2\n",
      "Enter first number: 24\n",
      "Enter second number: 2\n",
      "division of 2 numbers :  12.0\n"
     ]
    }
   ],
   "source": [
    "# simple caclulator\n",
    "def calculate():\n",
    "    print(\"1. Add\")\n",
    "    print(\"2. divide\")\n",
    "    print(\"3. multi\")\n",
    "    print(\"4. substract\")\n",
    "    print(\"5. exit\")\n",
    "\n",
    "    choice = input(\"Enter choice(1/2/3/4):\")\n",
    "    num1 = int(input(\"Enter first number: \"))\n",
    "    num2 = int(input(\"Enter second number: \"))\n",
    "    def add(a,b):\n",
    "        return a + b\n",
    "\n",
    "    def divide(a,b):\n",
    "        return a / b\n",
    "\n",
    "    def multiply(a,b):\n",
    "        return a * b\n",
    "\n",
    "    def subs(a,b):\n",
    "        return a - b\n",
    "\n",
    "    if choice == \"1\":\n",
    "\n",
    "        print(\"addtion of 2 numbers : \" , add(num1,num2))\n",
    "\n",
    "    elif choice == \"2\":\n",
    "\n",
    "        print(\"division of 2 numbers : \" , divide(num1,num2))\n",
    "\n",
    "    elif choice == \"3\":\n",
    "           print(\"multiplication of 2 numbers : \" , multiply(num1,num2)) \n",
    "\n",
    "    elif   choice == \"4\":\n",
    "            print(\"substraction of 2 numbers : \" , subs(num1,num2)) \n",
    "\n",
    "    else:\n",
    "        print(\"invalid number sorry\")\n",
    "\n",
    "\n",
    "\n",
    "def again():\n",
    "    calc_again = input('''\n",
    "Do you want to calculate again?\n",
    "Please type Y for YES or N for NO.\n",
    "''')\n",
    "\n",
    "    if calc_again.upper() == 'Y':\n",
    "        calculate()\n",
    "    elif calc_again.upper() == 'N':\n",
    "        print('See you later.')\n",
    "    else:\n",
    "        again()\n",
    "\n",
    "calculate()\n",
    "again()\n",
    "\n",
    "\n",
    "  \n",
    "    \n",
    "    "
   ]
  },
  {
   "cell_type": "code",
   "execution_count": 8,
   "metadata": {},
   "outputs": [
    {
     "name": "stdout",
     "output_type": "stream",
     "text": [
      "please enter any number11\n",
      "number is prime  11\n"
     ]
    }
   ],
   "source": [
    "#prime number\n",
    "\n",
    "number = int(input(\"please enter any number\"))\n",
    "if number>1:\n",
    "    for i in range(2,number):\n",
    "        if number%i == 0:\n",
    "            print(\"number is not prime \", number)\n",
    "            break\n",
    "    else:\n",
    "        print(\"number is prime \", number)\n",
    "else:\n",
    "    print(\"number is not prime \" , number)\n",
    "\n"
   ]
  },
  {
   "cell_type": "code",
   "execution_count": 30,
   "metadata": {},
   "outputs": [
    {
     "name": "stdout",
     "output_type": "stream",
     "text": [
      "enter a number 11\n",
      "factorial of number 39916800\n"
     ]
    }
   ],
   "source": [
    "#factorial of number\n",
    "\n",
    "number = int(input(\"enter a number \"))\n",
    "\n",
    "product = 1\n",
    "for i in range(number):\n",
    "     product = product*(i+1)\n",
    "        \n",
    "print(\"factorial of number\", product)\n"
   ]
  },
  {
   "cell_type": "code",
   "execution_count": 6,
   "metadata": {},
   "outputs": [
    {
     "name": "stdout",
     "output_type": "stream",
     "text": [
      "enter a number 153\n",
      "number is amstrong :  153\n"
     ]
    }
   ],
   "source": [
    "# Amstrong number\n",
    "\n",
    "number = int(input(\"enter a number \" ))\n",
    "n = len(str(number)) \n",
    "#print(n)  \n",
    "                                        # find the length of the number eg 153 : 3 lenght\n",
    "i = number \n",
    "result = 0\n",
    "while(i!=0):\n",
    "    digit = i%10                          #153 % 10 : remaider is 3\n",
    "    result = result + digit**n            # 3 * power of 3\n",
    "    i = i//10                              # 153/10 : 15  15>0  iterate uptil 0    \n",
    "if number == result:\n",
    "    print(\"number is amstrong : \", number)\n",
    "else:\n",
    "    print(\"number is not amstrong:\", number)\n",
    "    \n"
   ]
  },
  {
   "cell_type": "code",
   "execution_count": 11,
   "metadata": {},
   "outputs": [
    {
     "name": "stdout",
     "output_type": "stream",
     "text": [
      "please enter a string aaadddcs\n",
      "String is not palindrome\n"
     ]
    }
   ],
   "source": [
    "#palindrome string\n",
    "string = input(\"please enter a string \" )\n",
    "str_rev = string[ : : -1]\n",
    "if string == str_rev:\n",
    "    print(\"String is palindrome\")\n",
    "else:\n",
    "    print(\"String is not palindrome\")\n"
   ]
  },
  {
   "cell_type": "code",
   "execution_count": 17,
   "metadata": {},
   "outputs": [
    {
     "name": "stdout",
     "output_type": "stream",
     "text": [
      "Please enter a String qqqmmdvmrjvnrojnbjnbojnb\n",
      "the reverse string is  bnjobnjbnjornvjrmvdmmqqq\n"
     ]
    }
   ],
   "source": [
    "#reverse a string without function\n",
    "\n",
    "def string_reverse(String):\n",
    "    rev_str = \"\"\n",
    "    for i in String:\n",
    "        rev_str = i+rev_str\n",
    "    print(\"the reverse string is \", rev_str)\n",
    "    \n",
    "    \n",
    "String = input(\"Please enter a String \")\n",
    "\n",
    "string_reverse(String)"
   ]
  },
  {
   "cell_type": "code",
   "execution_count": 23,
   "metadata": {},
   "outputs": [
    {
     "name": "stdout",
     "output_type": "stream",
     "text": [
      "Please enter a String madam\n",
      "the reverse string is  madam\n",
      "String is palindrome\n"
     ]
    }
   ],
   "source": [
    "def string_reverse(String):\n",
    "    rev_str = \"\"\n",
    "    for i in String:\n",
    "        rev_str = i+rev_str\n",
    "    print(\"the reverse string is \", rev_str)\n",
    "    \n",
    "    if String == rev_str:\n",
    "         print(\"String is palindrome\")\n",
    "    else:\n",
    "         print(\"String is not a palindrome\")\n",
    "    \n",
    "    \n",
    "String = input(\"Please enter a String \")\n",
    "\n",
    "string_reverse(String)\n",
    "\n"
   ]
  },
  {
   "cell_type": "code",
   "execution_count": 30,
   "metadata": {},
   "outputs": [
    {
     "name": "stdout",
     "output_type": "stream",
     "text": [
      "please enter a number 33\n",
      "number is palindrome\n"
     ]
    }
   ],
   "source": [
    "#palindrome number\n",
    "number = int(input(\"please enter a number \" ))\n",
    "string = str(number)\n",
    "str_rev = string[ : : -1]\n",
    "if string == str_rev:\n",
    "    print(\"number is palindrome\")\n",
    "else:\n",
    "    print(\"number is not palindrome\")"
   ]
  },
  {
   "cell_type": "code",
   "execution_count": 33,
   "metadata": {},
   "outputs": [
    {
     "name": "stdout",
     "output_type": "stream",
     "text": [
      "Enter the number to print the table: 52\n",
      " 52 X 1  =  52\n",
      " 52 X 2  =  104\n",
      " 52 X 3  =  156\n",
      " 52 X 4  =  208\n",
      " 52 X 5  =  260\n",
      " 52 X 6  =  312\n",
      " 52 X 7  =  364\n",
      " 52 X 8  =  416\n",
      " 52 X 9  =  468\n",
      " 52 X 10  =  520\n"
     ]
    }
   ],
   "source": [
    "#multiplication of table\n",
    "number = int(input(\"Enter the number to print the table: \" ))\n",
    "for i in range(1 , 11):\n",
    "    print(\"\",number, \"X\",i,\" = \",number*i)\n"
   ]
  },
  {
   "cell_type": "code",
   "execution_count": 46,
   "metadata": {},
   "outputs": [
    {
     "name": "stdout",
     "output_type": "stream",
     "text": [
      "['a', 'b', 'c', 'd', 'e', 'f', 'g']\n"
     ]
    },
    {
     "data": {
      "text/plain": [
       "['b', 'd', 'f']"
      ]
     },
     "execution_count": 46,
     "metadata": {},
     "output_type": "execute_result"
    }
   ],
   "source": [
    "#slicing method\n",
    "\n",
    "w = ['a','b','c','d','e','f','g']\n",
    "print(w)\n",
    "w[0:7]\n",
    "w[0:7:2]\n",
    "w[::-1]\n",
    "w[1:-1:2]\n"
   ]
  },
  {
   "cell_type": "code",
   "execution_count": 15,
   "metadata": {},
   "outputs": [
    {
     "name": "stdout",
     "output_type": "stream",
     "text": [
      "enter the year2014\n",
      "enter the month2\n",
      "   February 2014\n",
      "Mo Tu We Th Fr Sa Su\n",
      "                1  2\n",
      " 3  4  5  6  7  8  9\n",
      "10 11 12 13 14 15 16\n",
      "17 18 19 20 21 22 23\n",
      "24 25 26 27 28\n",
      "\n"
     ]
    }
   ],
   "source": [
    "import calendar\n",
    "year = int(input(\"enter the year\"))\n",
    "month = int(input(\"enter the month\"))\n",
    "calendar.isleap(2010)\n",
    "print(calendar.month(year,month))\n",
    "\n"
   ]
  },
  {
   "cell_type": "code",
   "execution_count": 45,
   "metadata": {},
   "outputs": [
    {
     "name": "stdout",
     "output_type": "stream",
     "text": [
      "[20 30 40 50]\n"
     ]
    },
    {
     "data": {
      "text/plain": [
       "array([ 10,  20,  30,  40,  50, 100, 145])"
      ]
     },
     "execution_count": 45,
     "metadata": {},
     "output_type": "execute_result"
    }
   ],
   "source": [
    "#array operations\n",
    "\n",
    "import numpy as np\n",
    "a = np.array([10,20,30,40,50,100])\n",
    "# print(a)\n",
    "# a.max()\n",
    "# a.mean()\n",
    "# a.min()\n",
    "# a.all()\n",
    "# a.sum()\n",
    "a[::-1]  # reverse\n",
    "len(a)  #length of array\n",
    "index = [0 , 5]\n",
    "new_arr = np.delete(a,index)\n",
    "print(new_arr)\n",
    "np.append(a,[145])  # adding element at the end of array\n"
   ]
  },
  {
   "cell_type": "code",
   "execution_count": null,
   "metadata": {},
   "outputs": [],
   "source": [
    "# Adding new blocks of code everyday ...."
   ]
  },
  {
   "cell_type": "code",
   "execution_count": 25,
   "metadata": {},
   "outputs": [
    {
     "name": "stdout",
     "output_type": "stream",
     "text": [
      "array('i', [10, 20, 80, 30, 40, 50])\n",
      "40\n",
      "30\n",
      "80\n",
      "20\n",
      "10\n",
      "array('i', [40, 30, 80, 20, 10, 90])\n",
      "40\n",
      "30\n",
      "80\n",
      "20\n",
      "10\n",
      "90\n"
     ]
    }
   ],
   "source": [
    "from array import *\n",
    "\n",
    "array1 = array('i', [10,20,30,40,50])\n",
    "array1.insert(2,80)\n",
    "print(array1)\n",
    "array1.index(40)\n",
    "array1.pop()\n",
    "array1.reverse()\n",
    " \n",
    "for x in array1:\n",
    "    print(x)\n",
    "\n",
    "array1.append(90)\n",
    "print(array1)\n",
    "for x in array1:\n",
    "    print(x)\n"
   ]
  },
  {
   "cell_type": "code",
   "execution_count": null,
   "metadata": {},
   "outputs": [],
   "source": []
  },
  {
   "cell_type": "code",
   "execution_count": null,
   "metadata": {},
   "outputs": [],
   "source": []
  }
 ],
 "metadata": {
  "kernelspec": {
   "display_name": "Python 3",
   "language": "python",
   "name": "python3"
  },
  "language_info": {
   "codemirror_mode": {
    "name": "ipython",
    "version": 3
   },
   "file_extension": ".py",
   "mimetype": "text/x-python",
   "name": "python",
   "nbconvert_exporter": "python",
   "pygments_lexer": "ipython3",
   "version": "3.7.3"
  }
 },
 "nbformat": 4,
 "nbformat_minor": 2
}
